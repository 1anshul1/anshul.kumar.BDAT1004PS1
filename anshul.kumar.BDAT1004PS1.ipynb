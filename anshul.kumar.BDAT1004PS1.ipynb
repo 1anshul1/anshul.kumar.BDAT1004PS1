{
 "cells": [
  {
   "cell_type": "markdown",
   "id": "110a3f8a",
   "metadata": {},
   "source": [
    "## Problem Set 1"
   ]
  },
  {
   "cell_type": "code",
   "execution_count": 22,
   "id": "2bb3da7a",
   "metadata": {
    "scrolled": true
   },
   "outputs": [
    {
     "name": "stdout",
     "output_type": "stream",
     "text": [
      "5 is <class 'int'>\n",
      "5.0 is <class 'float'>\n",
      "5 > 1 is <class 'bool'>\n",
      "'5' is <class 'str'>\n",
      "5 * 2 is <class 'int'>\n",
      "'5' * 2 is <class 'str'>\n",
      "'5' + '2' is <class 'str'>\n",
      "5 / 2 is <class 'float'>\n",
      "5 % 2 is <class 'int'>\n",
      "{5, 2, 1} is <class 'set'>\n",
      "5 == 3 is <class 'bool'>\n",
      "Pi (the number) is <class 'float'>\n"
     ]
    }
   ],
   "source": [
    "\n",
    "# Data types and values of the following expressions:\n",
    "# ----------------------------------------------------------------------------\n",
    "\n",
    "print(\"5 is\", type(5))  # integer\n",
    "print(\"5.0 is\", type(5.0))  # float\n",
    "print(\"5 > 1 is\", type(5 > 1))  #boolean\n",
    "print(\"'5' is\", type('5'))  # string\n",
    "print(\"5 * 2 is\", type(5 * 2))  # integer\n",
    "print(\"'5' * 2 is\", type('5' * 2))  #string\n",
    "print(\"'5' + '2' is\", type('5' + '2'))  # string\n",
    "print(\"5 / 2 is\", type(5 / 2))  # float\n",
    "print(\"5 % 2 is\", type(5 % 2))  #integer\n",
    "print(\"{5, 2, 1} is\", type({5, 2, 1}))  # set\n",
    "print(\"5 == 3 is\", type(5 == 3))  #  boolean\n",
    "\n",
    "import math\n",
    "print(\"Pi (the number) is\", type(math.pi))  #float\n"
   ]
  },
  {
   "cell_type": "markdown",
   "id": "39b0d40a",
   "metadata": {},
   "source": [
    "## Problem Set 2"
   ]
  },
  {
   "cell_type": "markdown",
   "id": "154f43eb",
   "metadata": {},
   "source": [
    "### 2.a"
   ]
  },
  {
   "cell_type": "code",
   "execution_count": 5,
   "id": "18e91236",
   "metadata": {},
   "outputs": [
    {
     "name": "stdout",
     "output_type": "stream",
     "text": [
      "The word 'Supercalifragilisticexpialidocious' has 34 letters.\n"
     ]
    }
   ],
   "source": [
    "# a. How many letters are there in 'Supercalifragilisticexpialidocious'?\n",
    "# ----------------------------------------------------------------------------\n",
    "\n",
    "word = 'Supercalifragilisticexpialidocious'\n",
    "num_letters = len(word)\n",
    "print(\"The word '{}' has {} letters.\".format(word, num_letters))"
   ]
  },
  {
   "cell_type": "markdown",
   "id": "7a8b356d",
   "metadata": {},
   "source": [
    "### 2.b"
   ]
  },
  {
   "cell_type": "code",
   "execution_count": 6,
   "id": "9775632c",
   "metadata": {},
   "outputs": [
    {
     "name": "stdout",
     "output_type": "stream",
     "text": [
      "The word 'Supercalifragilisticexpialidocious' contains the substring 'ice'.\n"
     ]
    }
   ],
   "source": [
    "# b. Does 'Supercalifragilisticexpialidocious' contain 'ice' as a substring? \n",
    "# ----------------------------------------------------------------------------\n",
    "\n",
    "substring = 'ice'\n",
    "\n",
    "if substring in word:\n",
    "    print(\"The word '{}' contains the substring '{}'.\".format(word, substring))\n",
    "else:\n",
    "    print(\"The word '{}' does not contain the substring '{}'.\".format(word, substring))"
   ]
  },
  {
   "cell_type": "markdown",
   "id": "df814066",
   "metadata": {},
   "source": [
    "### 2.c"
   ]
  },
  {
   "cell_type": "code",
   "execution_count": 6,
   "id": "d22e64c9",
   "metadata": {},
   "outputs": [
    {
     "name": "stdout",
     "output_type": "stream",
     "text": [
      "The word 'Supercalifragilisticexpialidocious' contains the substring 'ice'.\n"
     ]
    }
   ],
   "source": [
    "# c. Which of the following words is the longest: Supercalifragilisticexpialidocious, \n",
    "# Honorificabilitudinitatibus, or Bababadalgharaghtakamminarronnkonn?\n",
    "# ----------------------------------------------------------------------------\n",
    "\n",
    "words = ['Supercalifragilisticexpialidocious', 'Honorificabilitudinitatibus', 'Bababadalgharaghtakamminarronnkonn']\n",
    "\n",
    "longest_word = max(words, key=len)\n",
    "print(\"The longest word among the options is: '{}'\".format(longest_word))"
   ]
  },
  {
   "cell_type": "markdown",
   "id": "29e71c68",
   "metadata": {},
   "source": [
    "### 2.d"
   ]
  },
  {
   "cell_type": "code",
   "execution_count": 8,
   "id": "c1f849fe",
   "metadata": {},
   "outputs": [
    {
     "name": "stdout",
     "output_type": "stream",
     "text": [
      "The composer that comes first in the dictionary order is: 'Bartok'\n",
      "The composer that comes last in the dictionary order is: 'Buxtehude'\n"
     ]
    }
   ],
   "source": [
    "# d. Which composer comes first in the dictionary: 'Berlioz', 'Borodin', 'Brian', 'Bartok', \n",
    "# 'Bellini', 'Buxtehude', 'Bernstein'. Which one comes last?\n",
    "# ----------------------------------------------------------------------------\n",
    "\n",
    "\n",
    "composers = ['Berlioz', 'Borodin', 'Brian', 'Bartok', 'Bellini', 'Buxtehude', 'Bernstein']\n",
    "\n",
    "first_composer = min(composers)\n",
    "last_composer = max(composers)\n",
    "\n",
    "print(\"The composer that comes first in the dictionary order is: '{}'\".format(first_composer))\n",
    "print(\"The composer that comes last in the dictionary order is: '{}'\".format(last_composer))"
   ]
  },
  {
   "cell_type": "markdown",
   "id": "66c678a4",
   "metadata": {},
   "source": [
    "## Problem Set 3"
   ]
  },
  {
   "cell_type": "code",
   "execution_count": 9,
   "id": "4a012063",
   "metadata": {},
   "outputs": [
    {
     "data": {
      "text/plain": [
       "1.7320508075688772"
      ]
     },
     "execution_count": 9,
     "metadata": {},
     "output_type": "execute_result"
    }
   ],
   "source": [
    "# Implement function triangleArea(a,b,c) that takes as input the lengths of the 3\n",
    "# sides of a triangle and returns the area of the triangle. By Heron's formula, the area\n",
    "# of a triangle with side lengths a, b, and c is s(s - a)(s -b)(s -c) where s = (a+b+c)/2. \n",
    "# ----------------------------------------------------------------------------\n",
    "\n",
    "\n",
    "def triangleArea(a, b, c):\n",
    "    s = (a + b + c) / 2  # Calculate the semi-perimeter\n",
    "    area = math.sqrt(s * (s - a) * (s - b) * (s - c))  # Calculate the area using Heron's formula\n",
    "    return area\n",
    "\n",
    "triangleArea(2,2,2)"
   ]
  },
  {
   "cell_type": "markdown",
   "id": "23b1cc85",
   "metadata": {},
   "source": [
    "## Problem Set 4"
   ]
  },
  {
   "cell_type": "code",
   "execution_count": 18,
   "id": "b88124a1",
   "metadata": {},
   "outputs": [
    {
     "name": "stdout",
     "output_type": "stream",
     "text": [
      "Input the number of elements to be stored in the array: 5\n",
      "25\n",
      "47\n",
      "42\n",
      "56\n",
      "32\n",
      "The Even elements are:\n",
      "42 56 32 \n",
      "The Odd elements are:\n",
      "25 47 "
     ]
    }
   ],
   "source": [
    "# Write a program in python to separate odd and even integers in separate arrays. Go to the editor\n",
    "# Test Data :\n",
    "# Input the number of elements to be stored in the array :5\n",
    "# Input 5 elements in the array :\n",
    "# element - 0 : 25\n",
    "# element - 1 : 47\n",
    "# element - 2 : 42\n",
    "# element - 3 : 56\n",
    "# element - 4 : 32\n",
    "# Expected Output:\n",
    "# The Even elements are:\n",
    "# 42 56 32\n",
    "# The Odd elements are :\n",
    "# 25 47\n",
    "# --------------------------------------------------------------------------------------------------------------\n",
    "\n",
    "# Get the number of elements from the user\n",
    "num_elements = int(input(\"Input the number of elements to be stored in the array: \"))\n",
    "\n",
    "# Initialize empty lists for odd and even numbers\n",
    "odd_numbers = []\n",
    "even_numbers = []\n",
    "\n",
    "# Get the elements from the user and separate them based on odd or even\n",
    "for i in range(num_elements):\n",
    "    element = int(input())\n",
    "    if element % 2 == 0:\n",
    "        even_numbers.append(element)\n",
    "    else:\n",
    "        odd_numbers.append(element)\n",
    "\n",
    "# Print the even and odd numbers\n",
    "print(\"The Even elements are:\")\n",
    "for even in even_numbers:\n",
    "    print(even, end=\" \")\n",
    "\n",
    "print(\"\\nThe Odd elements are:\")\n",
    "for odd in odd_numbers:\n",
    "    print(odd, end=\" \")\n"
   ]
  },
  {
   "cell_type": "markdown",
   "id": "6afa3f66",
   "metadata": {},
   "source": [
    "## Problem Set 5"
   ]
  },
  {
   "cell_type": "markdown",
   "id": "bd3a1296",
   "metadata": {},
   "source": [
    "### 5.a"
   ]
  },
  {
   "cell_type": "code",
   "execution_count": 20,
   "id": "736bc79a",
   "metadata": {},
   "outputs": [
    {
     "name": "stdout",
     "output_type": "stream",
     "text": [
      "True\n",
      "False\n"
     ]
    }
   ],
   "source": [
    "# Write a function inside(x,y,x1,y1,x2,y2) that returns True or False\n",
    "# depending on whether the point (x,y) lies in the rectangle with lower left\n",
    "# corner (x1,y1) and upper right corner (x2,y2).\n",
    "# >>> inside(1,1,0,0,2,3)\n",
    "# True\n",
    "# >>> inside(-1,-1,0,0,2,3)\n",
    "# False\n",
    "# ----------------------------------------------------------------------------\n",
    "\n",
    "\n",
    "def inside(x, y, x1, y1, x2, y2):\n",
    "    if x1 <= x <= x2 and y1 <= y <= y2:\n",
    "        return True\n",
    "    else:\n",
    "        return False\n",
    "\n",
    "# Example usage:\n",
    "print(inside(1, 1, 0, 0, 2, 3))   \n",
    "print(inside(-1, -1, 0, 0, 2, 3)) \n"
   ]
  },
  {
   "cell_type": "markdown",
   "id": "63232735",
   "metadata": {},
   "source": [
    "### 5.b"
   ]
  },
  {
   "cell_type": "code",
   "execution_count": 23,
   "id": "01e3b2e1",
   "metadata": {},
   "outputs": [
    {
     "name": "stdout",
     "output_type": "stream",
     "text": [
      "False\n"
     ]
    }
   ],
   "source": [
    "# Use function inside() from part a. to write an expression that tests whether\n",
    "# the point (1,1) lies in both of the following rectangles: one with lower left\n",
    "# corner (0.3, 0.5) and upper right corner (1.1, 0.7) and the other with lower\n",
    "# left corner (0.5, 0.2) and upper right corner (1.1, 2). \n",
    "# ----------------------------------------------------------------------------\n",
    "\n",
    "result = inside(1, 1, 0.3, 0.5, 1.1, 0.7) and inside(1, 1, 0.5, 0.2, 1.1, 2)\n",
    "print(result)"
   ]
  },
  {
   "cell_type": "markdown",
   "id": "a8394b73",
   "metadata": {},
   "source": [
    "## Problem Set 6"
   ]
  },
  {
   "cell_type": "code",
   "execution_count": 24,
   "id": "baec8838",
   "metadata": {},
   "outputs": [
    {
     "name": "stdout",
     "output_type": "stream",
     "text": [
      "appyhay\n",
      "enterway\n",
      "otherway\n"
     ]
    }
   ],
   "source": [
    "# You can turn a word into pig-Latin using the following two rules (simplified):\n",
    "# • If the word starts with a consonant, move that letter to the end and append\n",
    "# 'ay'. For example, 'happy' becomes 'appyhay' and 'pencil' becomes 'encilpay'.\n",
    "# • If the word starts with a vowel, simply append 'way' to the end of the word.\n",
    "# For example, 'enter' becomes 'enterway' and 'other' becomes 'otherway' . For\n",
    "# our purposes, there are 5 vowels: a, e, i, o, u (so we count y as a consonant).\n",
    "# Write a function pig() that takes a word (i.e., a string) as input and returns its pigLatin form. Your function should still work if the input word contains upper case\n",
    "# characters. Your output should always be lower case however. \n",
    "# ----------------------------------------------------------------------------\n",
    "\n",
    "\n",
    "def pig(word):\n",
    "    vowels = ['a', 'e', 'i', 'o', 'u']\n",
    "    word = word.lower()  # Convert the word to lowercase\n",
    "\n",
    "    if word[0] in vowels:\n",
    "        pig_word = word + 'way'\n",
    "    else:\n",
    "        pig_word = word[1:] + word[0] + 'ay'\n",
    "\n",
    "    return pig_word\n",
    "\n",
    "# Example usage:\n",
    "print(pig('Happy'))   # appyhay\n",
    "print(pig('Enter'))   # enterway\n",
    "print(pig('Other'))   # otherway\n"
   ]
  },
  {
   "cell_type": "markdown",
   "id": "9281ac68",
   "metadata": {},
   "source": [
    "## Problem Set 7"
   ]
  },
  {
   "cell_type": "code",
   "execution_count": 53,
   "id": "1fb3ef83",
   "metadata": {},
   "outputs": [
    {
     "name": "stdout",
     "output_type": "stream",
     "text": [
      "Number of patients with blood type A: 15\n",
      "Number of patients with blood type B: 1\n",
      "Number of patients with blood type AB: 13\n",
      "Number of patients with blood type O: 15\n",
      "Number of patients with blood type OO: 0\n"
     ]
    }
   ],
   "source": [
    "# File bloodtype1.txt records blood-types of patients (A, B, AB, O or OO) at a clinic.\n",
    "# Write a function bldcount() that reads the file with name name and reports (i.e.,\n",
    "# prints) how many patients there are in each bloodtype.\n",
    "# ----------------------------------------------------------------------------\n",
    "\n",
    "def bldcount(filename):\n",
    "    blood_counts = {\n",
    "        'A': 0,\n",
    "        'B': 0,\n",
    "        'AB': 0,\n",
    "        'O': 0,\n",
    "        'OO': 0\n",
    "    }\n",
    "\n",
    "    with open(filename, 'r') as file:\n",
    "        blood_types = file.read().split()\n",
    "        for blood_type in blood_types:\n",
    "            if blood_type in blood_counts:\n",
    "                blood_counts[blood_type] += 1\n",
    "            else:\n",
    "                blood_counts[blood_type] = 1\n",
    "\n",
    "    for blood_type, count in blood_counts.items():\n",
    "        print(f\"Number of patients with blood type {blood_type}: {count}\")\n",
    "\n",
    "\n",
    "bldcount('bloodtype1.txt')"
   ]
  },
  {
   "cell_type": "markdown",
   "id": "5d768cb2",
   "metadata": {},
   "source": [
    "## Problem Set 8"
   ]
  },
  {
   "cell_type": "code",
   "execution_count": 54,
   "id": "0ff1ccbe",
   "metadata": {},
   "outputs": [
    {
     "name": "stdout",
     "output_type": "stream",
     "text": [
      "122.96544\n",
      "1.241401\n"
     ]
    }
   ],
   "source": [
    "# Write a function curconv() that takes as input:\n",
    "# 1. a currency represented using a string (e.g., 'JPY' for the Japanese Yen or\n",
    "# 'EUR' for the Euro)\n",
    "# 2. an amount\n",
    "# and then converts and returns the amount in US dollars.\n",
    "# ----------------------------------------------------------------------------\n",
    "\n",
    "def curconv(currency, amount):\n",
    "    conversion_rates = {}\n",
    "\n",
    "    with open('currencies.txt', 'r') as file:\n",
    "        for line in file:\n",
    "            code, rate, _ = line.strip().split('\\t')\n",
    "            conversion_rates[code] = float(rate)\n",
    "\n",
    "    if currency in conversion_rates:\n",
    "        usd_amount = amount * conversion_rates[currency]\n",
    "        return usd_amount\n",
    "    else:\n",
    "        return f\"Currency '{currency}' is not supported.\"\n",
    "    \n",
    "print(curconv('EUR', 100))\n",
    "print(curconv('JPY', 100))"
   ]
  },
  {
   "cell_type": "markdown",
   "id": "43299fd1",
   "metadata": {},
   "source": [
    "## Problem Set 9"
   ]
  },
  {
   "cell_type": "code",
   "execution_count": null,
   "id": "79096b06",
   "metadata": {},
   "outputs": [],
   "source": [
    "# Each of the following will cause an exception (an error). Identify what type of\n",
    "# exception each will cause\n",
    "# ---------------------------------------------------------------------------------------------------"
   ]
  },
  {
   "cell_type": "markdown",
   "id": "68a9712c",
   "metadata": {},
   "source": [
    "### 9.a"
   ]
  },
  {
   "cell_type": "code",
   "execution_count": 61,
   "id": "fccc732d",
   "metadata": {},
   "outputs": [
    {
     "ename": "TypeError",
     "evalue": "unsupported operand type(s) for +: 'int' and 'str'",
     "output_type": "error",
     "traceback": [
      "\u001b[0;31m---------------------------------------------------------------------------\u001b[0m",
      "\u001b[0;31mTypeError\u001b[0m                                 Traceback (most recent call last)",
      "\u001b[0;32m/var/folders/lc/zhm9bmc17014ffx257jbktf40000gn/T/ipykernel_43886/1326475987.py\u001b[0m in \u001b[0;36m<module>\u001b[0;34m\u001b[0m\n\u001b[1;32m      1\u001b[0m \u001b[0;31m#Adding incompatible variables\u001b[0m\u001b[0;34m\u001b[0m\u001b[0;34m\u001b[0m\u001b[0m\n\u001b[0;32m----> 2\u001b[0;31m \u001b[0mresult\u001b[0m \u001b[0;34m=\u001b[0m \u001b[0;36m6\u001b[0m \u001b[0;34m+\u001b[0m \u001b[0;34m'a'\u001b[0m\u001b[0;34m\u001b[0m\u001b[0;34m\u001b[0m\u001b[0m\n\u001b[0m",
      "\u001b[0;31mTypeError\u001b[0m: unsupported operand type(s) for +: 'int' and 'str'"
     ]
    }
   ],
   "source": [
    "#Adding incompatible variables\n",
    "result = 6 + 'a'"
   ]
  },
  {
   "cell_type": "markdown",
   "id": "ad6f80d3",
   "metadata": {},
   "source": [
    "### 9.b"
   ]
  },
  {
   "cell_type": "code",
   "execution_count": 63,
   "id": "5a4e6681",
   "metadata": {},
   "outputs": [
    {
     "ename": "IndexError",
     "evalue": "list index out of range",
     "output_type": "error",
     "traceback": [
      "\u001b[0;31m---------------------------------------------------------------------------\u001b[0m",
      "\u001b[0;31mIndexError\u001b[0m                                Traceback (most recent call last)",
      "\u001b[0;32m/var/folders/lc/zhm9bmc17014ffx257jbktf40000gn/T/ipykernel_43886/3722056486.py\u001b[0m in \u001b[0;36m<module>\u001b[0;34m\u001b[0m\n\u001b[1;32m      1\u001b[0m \u001b[0;31m# Referring to the 12th item of a list that has only 10 items\u001b[0m\u001b[0;34m\u001b[0m\u001b[0;34m\u001b[0m\u001b[0m\n\u001b[1;32m      2\u001b[0m \u001b[0mnew_list\u001b[0m \u001b[0;34m=\u001b[0m \u001b[0;34m[\u001b[0m\u001b[0;36m1\u001b[0m\u001b[0;34m,\u001b[0m \u001b[0;36m2\u001b[0m\u001b[0;34m,\u001b[0m \u001b[0;36m3\u001b[0m\u001b[0;34m,\u001b[0m \u001b[0;36m4\u001b[0m\u001b[0;34m,\u001b[0m \u001b[0;36m5\u001b[0m\u001b[0;34m]\u001b[0m\u001b[0;34m\u001b[0m\u001b[0;34m\u001b[0m\u001b[0m\n\u001b[0;32m----> 3\u001b[0;31m \u001b[0melement\u001b[0m \u001b[0;34m=\u001b[0m \u001b[0mnew_list\u001b[0m\u001b[0;34m[\u001b[0m\u001b[0;36m12\u001b[0m\u001b[0;34m]\u001b[0m\u001b[0;34m\u001b[0m\u001b[0;34m\u001b[0m\u001b[0m\n\u001b[0m",
      "\u001b[0;31mIndexError\u001b[0m: list index out of range"
     ]
    }
   ],
   "source": [
    "# Referring to the 12th item of a list that has only 10 items\n",
    "new_list = [1, 2, 3, 4, 5]\n",
    "element = new_list[12]"
   ]
  },
  {
   "cell_type": "markdown",
   "id": "50e93c60",
   "metadata": {},
   "source": [
    "### 9.c"
   ]
  },
  {
   "cell_type": "code",
   "execution_count": 64,
   "id": "c909baeb",
   "metadata": {},
   "outputs": [
    {
     "ename": "ValueError",
     "evalue": "math domain error",
     "output_type": "error",
     "traceback": [
      "\u001b[0;31m---------------------------------------------------------------------------\u001b[0m",
      "\u001b[0;31mValueError\u001b[0m                                Traceback (most recent call last)",
      "\u001b[0;32m/var/folders/lc/zhm9bmc17014ffx257jbktf40000gn/T/ipykernel_43886/2740960662.py\u001b[0m in \u001b[0;36m<module>\u001b[0;34m\u001b[0m\n\u001b[1;32m      1\u001b[0m \u001b[0;31m# Using a value that is out of range for a function’s input, such as calling math.sqrt(-1.0)\u001b[0m\u001b[0;34m\u001b[0m\u001b[0;34m\u001b[0m\u001b[0m\n\u001b[0;32m----> 2\u001b[0;31m \u001b[0mresult\u001b[0m \u001b[0;34m=\u001b[0m \u001b[0mmath\u001b[0m\u001b[0;34m.\u001b[0m\u001b[0msqrt\u001b[0m\u001b[0;34m(\u001b[0m\u001b[0;34m-\u001b[0m\u001b[0;36m1.0\u001b[0m\u001b[0;34m)\u001b[0m\u001b[0;34m\u001b[0m\u001b[0;34m\u001b[0m\u001b[0m\n\u001b[0m",
      "\u001b[0;31mValueError\u001b[0m: math domain error"
     ]
    }
   ],
   "source": [
    "# Using a value that is out of range for a function’s input, such as calling math.sqrt(-1.0)\n",
    "result = math.sqrt(-1.0)"
   ]
  },
  {
   "cell_type": "markdown",
   "id": "d512348a",
   "metadata": {},
   "source": [
    "### 9.d"
   ]
  },
  {
   "cell_type": "code",
   "execution_count": 65,
   "id": "0d7701aa",
   "metadata": {},
   "outputs": [
    {
     "ename": "NameError",
     "evalue": "name 'x' is not defined",
     "output_type": "error",
     "traceback": [
      "\u001b[0;31m---------------------------------------------------------------------------\u001b[0m",
      "\u001b[0;31mNameError\u001b[0m                                 Traceback (most recent call last)",
      "\u001b[0;32m/var/folders/lc/zhm9bmc17014ffx257jbktf40000gn/T/ipykernel_43886/3966175396.py\u001b[0m in \u001b[0;36m<module>\u001b[0;34m\u001b[0m\n\u001b[1;32m      1\u001b[0m \u001b[0;31m# Using an undeclared variable, such as print(x) when x has not been defined\u001b[0m\u001b[0;34m\u001b[0m\u001b[0;34m\u001b[0m\u001b[0m\n\u001b[1;32m      2\u001b[0m \u001b[0;34m\u001b[0m\u001b[0m\n\u001b[0;32m----> 3\u001b[0;31m \u001b[0mprint\u001b[0m\u001b[0;34m(\u001b[0m\u001b[0mx\u001b[0m\u001b[0;34m)\u001b[0m\u001b[0;34m\u001b[0m\u001b[0;34m\u001b[0m\u001b[0m\n\u001b[0m",
      "\u001b[0;31mNameError\u001b[0m: name 'x' is not defined"
     ]
    }
   ],
   "source": [
    "# Using an undeclared variable, such as print(x) when x has not been defined \n",
    "\n",
    "print(x)\n"
   ]
  },
  {
   "cell_type": "markdown",
   "id": "73e1caae",
   "metadata": {},
   "source": [
    "### 9.e"
   ]
  },
  {
   "cell_type": "code",
   "execution_count": 66,
   "id": "c6a1ec8a",
   "metadata": {},
   "outputs": [
    {
     "ename": "FileNotFoundError",
     "evalue": "[Errno 2] No such file or directory: 'abhkdasc.txt'",
     "output_type": "error",
     "traceback": [
      "\u001b[0;31m---------------------------------------------------------------------------\u001b[0m",
      "\u001b[0;31mFileNotFoundError\u001b[0m                         Traceback (most recent call last)",
      "\u001b[0;32m/var/folders/lc/zhm9bmc17014ffx257jbktf40000gn/T/ipykernel_43886/2796857138.py\u001b[0m in \u001b[0;36m<module>\u001b[0;34m\u001b[0m\n\u001b[1;32m      1\u001b[0m \u001b[0;31m# Trying to open a file that does not exist, such as mistyping the file name or looking in the wrong directory.\u001b[0m\u001b[0;34m\u001b[0m\u001b[0;34m\u001b[0m\u001b[0m\n\u001b[0;32m----> 2\u001b[0;31m \u001b[0mfile\u001b[0m \u001b[0;34m=\u001b[0m \u001b[0mopen\u001b[0m\u001b[0;34m(\u001b[0m\u001b[0;34m'abhkdasc.txt'\u001b[0m\u001b[0;34m)\u001b[0m\u001b[0;34m\u001b[0m\u001b[0;34m\u001b[0m\u001b[0m\n\u001b[0m",
      "\u001b[0;31mFileNotFoundError\u001b[0m: [Errno 2] No such file or directory: 'abhkdasc.txt'"
     ]
    }
   ],
   "source": [
    "# Trying to open a file that does not exist, such as mistyping the file name or looking in the wrong directory. \n",
    "file = open('abhkdasc.txt')"
   ]
  },
  {
   "cell_type": "markdown",
   "id": "3e7260d5",
   "metadata": {},
   "source": [
    "## Problem Set 10"
   ]
  },
  {
   "cell_type": "code",
   "execution_count": 69,
   "id": "d67c50c5",
   "metadata": {},
   "outputs": [],
   "source": [
    "# Encryption is the process of hiding the meaning of a text by substituting letters in the\n",
    "# message with other letters, according to some system. If the process is successful, no\n",
    "# one but the intended recipient can understand the encrypted message. Cryptanalysis\n",
    "# refers to attempts to undo the encryption, even if some details of the encryption are\n",
    "# unknown (for example, if an encrypted message has been intercepted). The first step\n",
    "# of cryptanalysis is often to build up a table of letter frequencies in the encrypted text.\n",
    "# Assume that the string letters is already defined as\n",
    "# 'abcdefghijklmnopqrstuvwxyz'. Write a function called frequencies()\n",
    "# that takes a string as its only parameter, and returns a list of integers, showing the\n",
    "# number of times each character appears in the text. Your function may ignore any\n",
    "# characters that are not in letters. \n",
    "# ----------------------------------------------------------------------------------------\n",
    "\n",
    "def frequencies(text):\n",
    "    letters = 'abcdefghijklmnopqrstuvwxyz'\n",
    "    freq_dict = {}\n",
    "\n",
    "    # Initialize frequency dictionary\n",
    "    for char in letters:\n",
    "        freq_dict[char] = 0\n",
    "\n",
    "    # Count frequencies\n",
    "    for char in text.lower():\n",
    "        if char in freq_dict:\n",
    "            freq_dict[char] += 1\n",
    "\n",
    "    # Convert dictionary to list\n",
    "    freq_list = [freq_dict[char] for char in letters]\n",
    "\n",
    "    return freq_list"
   ]
  },
  {
   "cell_type": "code",
   "execution_count": 70,
   "id": "ea02a2fb",
   "metadata": {},
   "outputs": [
    {
     "data": {
      "text/plain": [
       "[1, 1, 1, 3, 5, 1, 1, 2, 1, 0, 1, 0, 1, 2, 4, 0, 1, 2, 0, 3, 1, 0, 1, 1, 0, 0]"
      ]
     },
     "execution_count": 70,
     "metadata": {},
     "output_type": "execute_result"
    }
   ],
   "source": [
    "frequencies('The quick red fox got bored and went home.')"
   ]
  }
 ],
 "metadata": {
  "kernelspec": {
   "display_name": "Python 3 (ipykernel)",
   "language": "python",
   "name": "python3"
  },
  "language_info": {
   "codemirror_mode": {
    "name": "ipython",
    "version": 3
   },
   "file_extension": ".py",
   "mimetype": "text/x-python",
   "name": "python",
   "nbconvert_exporter": "python",
   "pygments_lexer": "ipython3",
   "version": "3.9.7"
  }
 },
 "nbformat": 4,
 "nbformat_minor": 5
}
